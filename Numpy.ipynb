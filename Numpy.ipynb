{
  "nbformat": 4,
  "nbformat_minor": 0,
  "metadata": {
    "colab": {
      "provenance": [],
      "authorship_tag": "ABX9TyMVYsgwvkhwfo7FWgjQQXys",
      "include_colab_link": true
    },
    "kernelspec": {
      "name": "python3",
      "display_name": "Python 3"
    },
    "language_info": {
      "name": "python"
    }
  },
  "cells": [
    {
      "cell_type": "markdown",
      "metadata": {
        "id": "view-in-github",
        "colab_type": "text"
      },
      "source": [
        "<a href=\"https://colab.research.google.com/github/Kushal1306/Numpy/blob/main/Numpy.ipynb\" target=\"_parent\"><img src=\"https://colab.research.google.com/assets/colab-badge.svg\" alt=\"Open In Colab\"/></a>"
      ]
    },
    {
      "cell_type": "code",
      "execution_count": 1,
      "metadata": {
        "id": "hsMhACUrYRuS"
      },
      "outputs": [],
      "source": [
        "import numpy as np"
      ]
    },
    {
      "cell_type": "code",
      "source": [
        "lst=[1,2,3,4]\n",
        "print(lst)"
      ],
      "metadata": {
        "colab": {
          "base_uri": "https://localhost:8080/"
        },
        "id": "oJ6x9L7_YWP1",
        "outputId": "b7274997-c0a0-45d9-9f62-bd860547a8e1"
      },
      "execution_count": 2,
      "outputs": [
        {
          "output_type": "stream",
          "name": "stdout",
          "text": [
            "[1, 2, 3, 4]\n"
          ]
        }
      ]
    },
    {
      "cell_type": "markdown",
      "source": [
        "In Numpy we can store multi dimensional data compared to a list in python"
      ],
      "metadata": {
        "id": "j9DtTiu9Yjoq"
      }
    },
    {
      "cell_type": "code",
      "source": [
        "print(\"1D Array\")\n",
        "a=np.array([1,2,3,4,5])\n",
        "print(a)"
      ],
      "metadata": {
        "colab": {
          "base_uri": "https://localhost:8080/"
        },
        "id": "1DkVw9k5YhIs",
        "outputId": "32c59c63-86e3-4806-dc32-6c28f840014e"
      },
      "execution_count": 23,
      "outputs": [
        {
          "output_type": "stream",
          "name": "stdout",
          "text": [
            "1D Array\n",
            "[1 2 3 4 5]\n"
          ]
        }
      ]
    },
    {
      "cell_type": "code",
      "source": [
        "print(\"2D Array\")\n",
        "b=np.array([[1,2,3,4,5],[6,7,8,9,10]])\n",
        "print(b)"
      ],
      "metadata": {
        "colab": {
          "base_uri": "https://localhost:8080/"
        },
        "id": "qSgBPw3vY-dL",
        "outputId": "4648e024-f9a2-49f6-9cc1-c20fa4352974"
      },
      "execution_count": 24,
      "outputs": [
        {
          "output_type": "stream",
          "name": "stdout",
          "text": [
            "2D Array\n",
            "[[ 1  2  3  4  5]\n",
            " [ 6  7  8  9 10]]\n"
          ]
        }
      ]
    },
    {
      "cell_type": "code",
      "source": [
        "print(\"3D Array\")\n",
        "c=np.array([[[1,2,3,4,5],[6,7,8,9,10],[11,12,13,14,15]]])\n",
        "c"
      ],
      "metadata": {
        "colab": {
          "base_uri": "https://localhost:8080/"
        },
        "id": "qafkg5YIZSg3",
        "outputId": "c3f0a942-51f4-4807-b58c-904374a85936"
      },
      "execution_count": 25,
      "outputs": [
        {
          "output_type": "stream",
          "name": "stdout",
          "text": [
            "3D Array\n"
          ]
        },
        {
          "output_type": "execute_result",
          "data": {
            "text/plain": [
              "array([[[ 1,  2,  3,  4,  5],\n",
              "        [ 6,  7,  8,  9, 10],\n",
              "        [11, 12, 13, 14, 15]]])"
            ]
          },
          "metadata": {},
          "execution_count": 25
        }
      ]
    },
    {
      "cell_type": "code",
      "source": [
        "type(a)"
      ],
      "metadata": {
        "colab": {
          "base_uri": "https://localhost:8080/"
        },
        "id": "35Tl-Uq0c5Qp",
        "outputId": "ee6141dd-591b-4860-963e-115ff93627d6"
      },
      "execution_count": 9,
      "outputs": [
        {
          "output_type": "execute_result",
          "data": {
            "text/plain": [
              "numpy.ndarray"
            ]
          },
          "metadata": {},
          "execution_count": 9
        }
      ]
    },
    {
      "cell_type": "code",
      "source": [
        "print(a.size)\n",
        "print(b.size)\n",
        "print(c.size)"
      ],
      "metadata": {
        "colab": {
          "base_uri": "https://localhost:8080/"
        },
        "id": "EEY2I9q3c7_2",
        "outputId": "e6a69648-6ab7-4497-bee2-0b38af49c528"
      },
      "execution_count": 26,
      "outputs": [
        {
          "output_type": "stream",
          "name": "stdout",
          "text": [
            "5\n",
            "10\n",
            "15\n"
          ]
        }
      ]
    },
    {
      "cell_type": "code",
      "source": [
        "print(a.shape)\n",
        "print(b.shape)\n",
        "print(c.shape)"
      ],
      "metadata": {
        "colab": {
          "base_uri": "https://localhost:8080/"
        },
        "id": "Odffh1tCdHpf",
        "outputId": "702275d4-d72e-4891-a0b3-3c3b98194cad"
      },
      "execution_count": 27,
      "outputs": [
        {
          "output_type": "stream",
          "name": "stdout",
          "text": [
            "(5,)\n",
            "(2, 5)\n",
            "(1, 3, 5)\n"
          ]
        }
      ]
    },
    {
      "cell_type": "code",
      "source": [
        "print(a.dtype)"
      ],
      "metadata": {
        "colab": {
          "base_uri": "https://localhost:8080/"
        },
        "id": "KClohYFdeStY",
        "outputId": "1a03f992-cf56-4d47-98cd-98a7689908bf"
      },
      "execution_count": 28,
      "outputs": [
        {
          "output_type": "stream",
          "name": "stdout",
          "text": [
            "int64\n"
          ]
        }
      ]
    },
    {
      "cell_type": "markdown",
      "source": [
        "Transpose"
      ],
      "metadata": {
        "id": "3gY2AUEJe4YE"
      }
    },
    {
      "cell_type": "code",
      "source": [
        "b.transpose()"
      ],
      "metadata": {
        "colab": {
          "base_uri": "https://localhost:8080/"
        },
        "id": "mq777oYUept_",
        "outputId": "ca1e359c-8696-4a6e-e4e2-0399925ac7dd"
      },
      "execution_count": 29,
      "outputs": [
        {
          "output_type": "execute_result",
          "data": {
            "text/plain": [
              "array([[ 1,  6],\n",
              "       [ 2,  7],\n",
              "       [ 3,  8],\n",
              "       [ 4,  9],\n",
              "       [ 5, 10]])"
            ]
          },
          "metadata": {},
          "execution_count": 29
        }
      ]
    },
    {
      "cell_type": "markdown",
      "source": [
        "# Empty\n",
        "np.empty((4,4),dtype)\n"
      ],
      "metadata": {
        "id": "MLmnXKbLfEHY"
      }
    },
    {
      "cell_type": "code",
      "source": [
        "np.empty((4,4),dtype=int)"
      ],
      "metadata": {
        "colab": {
          "base_uri": "https://localhost:8080/"
        },
        "id": "_VUBIrMpfAtr",
        "outputId": "c6237560-8f04-41f6-a4e7-75a0e9a42b1b"
      },
      "execution_count": 30,
      "outputs": [
        {
          "output_type": "execute_result",
          "data": {
            "text/plain": [
              "array([[102295728926265,               0,    489626271856,\n",
              "           481036337263],\n",
              "       [   450971566194,    498216206433,    137438953573,\n",
              "           476741369961],\n",
              "       [   498216206435,    137438953580,    476741369958,\n",
              "           137438953586],\n",
              "       [   433791696996,    450971566198,    433791696995,\n",
              "        139732466008064]])"
            ]
          },
          "metadata": {},
          "execution_count": 30
        }
      ]
    },
    {
      "cell_type": "code",
      "source": [
        "x=np.ones(5)\n",
        "x"
      ],
      "metadata": {
        "colab": {
          "base_uri": "https://localhost:8080/"
        },
        "id": "s_QxDzFGhCZi",
        "outputId": "e1d46c96-6263-4d5a-b652-a5f211a03073"
      },
      "execution_count": 36,
      "outputs": [
        {
          "output_type": "execute_result",
          "data": {
            "text/plain": [
              "array([1., 1., 1., 1., 1.])"
            ]
          },
          "metadata": {},
          "execution_count": 36
        }
      ]
    },
    {
      "cell_type": "code",
      "source": [
        "x=np.ones(5,dtype=int)\n",
        "x"
      ],
      "metadata": {
        "colab": {
          "base_uri": "https://localhost:8080/"
        },
        "id": "_A5sQ3X6gnX7",
        "outputId": "50e8b93f-bdfd-409c-8a27-bbbb2bcea046"
      },
      "execution_count": 33,
      "outputs": [
        {
          "output_type": "execute_result",
          "data": {
            "text/plain": [
              "array([1, 1, 1, 1, 1])"
            ]
          },
          "metadata": {},
          "execution_count": 33
        }
      ]
    },
    {
      "cell_type": "code",
      "source": [
        "x=np.ones((3,5),dtype=int)\n",
        "x"
      ],
      "metadata": {
        "colab": {
          "base_uri": "https://localhost:8080/"
        },
        "id": "YxPgETffg4r0",
        "outputId": "e2acade5-e009-4afe-fb9a-085667bf3d46"
      },
      "execution_count": 35,
      "outputs": [
        {
          "output_type": "execute_result",
          "data": {
            "text/plain": [
              "array([[1, 1, 1, 1, 1],\n",
              "       [1, 1, 1, 1, 1],\n",
              "       [1, 1, 1, 1, 1]])"
            ]
          },
          "metadata": {},
          "execution_count": 35
        }
      ]
    },
    {
      "cell_type": "code",
      "source": [
        "x=np.zeros(5)\n",
        "x"
      ],
      "metadata": {
        "colab": {
          "base_uri": "https://localhost:8080/"
        },
        "id": "K3ldwXF0hOnt",
        "outputId": "a1db178c-c8a7-4533-b37d-d6068cc6b7f5"
      },
      "execution_count": 40,
      "outputs": [
        {
          "output_type": "execute_result",
          "data": {
            "text/plain": [
              "array([0., 0., 0., 0., 0.])"
            ]
          },
          "metadata": {},
          "execution_count": 40
        }
      ]
    },
    {
      "cell_type": "code",
      "source": [
        "x=np.zeros((3,4),dtype=int)\n",
        "x"
      ],
      "metadata": {
        "colab": {
          "base_uri": "https://localhost:8080/"
        },
        "id": "J5zF6GMphQua",
        "outputId": "5a5e7b86-6fd2-40cd-d6a0-79427a334b5b"
      },
      "execution_count": 42,
      "outputs": [
        {
          "output_type": "execute_result",
          "data": {
            "text/plain": [
              "array([[0, 0, 0, 0],\n",
              "       [0, 0, 0, 0],\n",
              "       [0, 0, 0, 0]])"
            ]
          },
          "metadata": {},
          "execution_count": 42
        }
      ]
    },
    {
      "cell_type": "code",
      "source": [
        "x=np.zeros(5,dtype=str)\n",
        "x"
      ],
      "metadata": {
        "colab": {
          "base_uri": "https://localhost:8080/"
        },
        "id": "-hWctKvLg_Hq",
        "outputId": "05c2a16f-5bfb-461c-ec26-58d644f958b0"
      },
      "execution_count": 39,
      "outputs": [
        {
          "output_type": "execute_result",
          "data": {
            "text/plain": [
              "array(['', '', '', '', ''], dtype='<U1')"
            ]
          },
          "metadata": {},
          "execution_count": 39
        }
      ]
    },
    {
      "cell_type": "code",
      "source": [
        "x=np.zeros(5,dtype=bool)\n",
        "x"
      ],
      "metadata": {
        "colab": {
          "base_uri": "https://localhost:8080/"
        },
        "id": "ZYkYr-xOhVwi",
        "outputId": "705da8c0-c37c-4e2e-ffe1-506e5947acdb"
      },
      "execution_count": 46,
      "outputs": [
        {
          "output_type": "execute_result",
          "data": {
            "text/plain": [
              "array([False, False, False, False, False])"
            ]
          },
          "metadata": {},
          "execution_count": 46
        }
      ]
    },
    {
      "cell_type": "markdown",
      "source": [
        "#np arrange\n",
        "np.arange(start,end,step)"
      ],
      "metadata": {
        "id": "vpzww6NTlDy0"
      }
    },
    {
      "cell_type": "code",
      "source": [
        "x=np.arange(1,20)\n",
        "x"
      ],
      "metadata": {
        "colab": {
          "base_uri": "https://localhost:8080/"
        },
        "id": "UzgeP3yPhZg3",
        "outputId": "1f4aebf0-dec0-444a-a129-e9c786a83475"
      },
      "execution_count": 47,
      "outputs": [
        {
          "output_type": "execute_result",
          "data": {
            "text/plain": [
              "array([ 1,  2,  3,  4,  5,  6,  7,  8,  9, 10, 11, 12, 13, 14, 15, 16, 17,\n",
              "       18, 19])"
            ]
          },
          "metadata": {},
          "execution_count": 47
        }
      ]
    },
    {
      "cell_type": "code",
      "source": [
        "x=np.arange(1,20,2)\n",
        "x"
      ],
      "metadata": {
        "colab": {
          "base_uri": "https://localhost:8080/"
        },
        "id": "HRhbfCMklUdO",
        "outputId": "5325b831-2a75-41e9-b554-76d3dfa4f712"
      },
      "execution_count": 49,
      "outputs": [
        {
          "output_type": "execute_result",
          "data": {
            "text/plain": [
              "array([ 1,  3,  5,  7,  9, 11, 13, 15, 17, 19])"
            ]
          },
          "metadata": {},
          "execution_count": 49
        }
      ]
    },
    {
      "cell_type": "markdown",
      "source": [
        "#Reshaping Array\n"
      ],
      "metadata": {
        "id": "Xk_xUcV1mohY"
      }
    },
    {
      "cell_type": "code",
      "source": [
        "a=np.array([[1,2,3,4,5],[6,7,8,9,10]])\n",
        "a\n",
        "x=a.reshape((5,-1))\n",
        "x"
      ],
      "metadata": {
        "colab": {
          "base_uri": "https://localhost:8080/"
        },
        "id": "Qz5TFA6jlwwR",
        "outputId": "8bdad749-1a98-4aa9-d5e4-31ca67e647cf"
      },
      "execution_count": 58,
      "outputs": [
        {
          "output_type": "execute_result",
          "data": {
            "text/plain": [
              "array([[ 1,  2],\n",
              "       [ 3,  4],\n",
              "       [ 5,  6],\n",
              "       [ 7,  8],\n",
              "       [ 9, 10]])"
            ]
          },
          "metadata": {},
          "execution_count": 58
        }
      ]
    },
    {
      "cell_type": "markdown",
      "source": [
        "Flattening Array"
      ],
      "metadata": {
        "id": "P0IKRp-wo8dC"
      }
    },
    {
      "cell_type": "code",
      "source": [
        "b=x.flatten()\n",
        "b"
      ],
      "metadata": {
        "colab": {
          "base_uri": "https://localhost:8080/"
        },
        "id": "TSxEUvJ-o616",
        "outputId": "2d92398e-f33a-4071-8ef6-8fcd646bf5e9"
      },
      "execution_count": 59,
      "outputs": [
        {
          "output_type": "execute_result",
          "data": {
            "text/plain": [
              "array([ 1,  2,  3,  4,  5,  6,  7,  8,  9, 10])"
            ]
          },
          "metadata": {},
          "execution_count": 59
        }
      ]
    },
    {
      "cell_type": "markdown",
      "source": [
        "Ravel"
      ],
      "metadata": {
        "id": "B-vt_li2pMMJ"
      }
    },
    {
      "cell_type": "code",
      "source": [
        "c=x.ravel()\n",
        "c"
      ],
      "metadata": {
        "colab": {
          "base_uri": "https://localhost:8080/"
        },
        "id": "rOb7arJYpNfy",
        "outputId": "7821b794-3621-47eb-9c0c-af1375147fd6"
      },
      "execution_count": 60,
      "outputs": [
        {
          "output_type": "execute_result",
          "data": {
            "text/plain": [
              "array([ 1,  2,  3,  4,  5,  6,  7,  8,  9, 10])"
            ]
          },
          "metadata": {},
          "execution_count": 60
        }
      ]
    },
    {
      "cell_type": "markdown",
      "source": [
        "#Array Slicing"
      ],
      "metadata": {
        "id": "MxCJg_Fop9qA"
      }
    },
    {
      "cell_type": "code",
      "source": [
        "a=np.arange(1,51)\n",
        "a=a.reshape((10,5))\n",
        "a"
      ],
      "metadata": {
        "colab": {
          "base_uri": "https://localhost:8080/"
        },
        "id": "LtTcl3AwqAMG",
        "outputId": "9a538100-df4e-4c6d-f70e-f4eaed329d86"
      },
      "execution_count": 61,
      "outputs": [
        {
          "output_type": "execute_result",
          "data": {
            "text/plain": [
              "array([[ 1,  2,  3,  4,  5],\n",
              "       [ 6,  7,  8,  9, 10],\n",
              "       [11, 12, 13, 14, 15],\n",
              "       [16, 17, 18, 19, 20],\n",
              "       [21, 22, 23, 24, 25],\n",
              "       [26, 27, 28, 29, 30],\n",
              "       [31, 32, 33, 34, 35],\n",
              "       [36, 37, 38, 39, 40],\n",
              "       [41, 42, 43, 44, 45],\n",
              "       [46, 47, 48, 49, 50]])"
            ]
          },
          "metadata": {},
          "execution_count": 61
        }
      ]
    },
    {
      "cell_type": "code",
      "source": [
        "a[0]\n"
      ],
      "metadata": {
        "colab": {
          "base_uri": "https://localhost:8080/"
        },
        "id": "MRdABZgmqLTX",
        "outputId": "6366cc62-c882-4381-b825-c8e9bef2db9a"
      },
      "execution_count": 65,
      "outputs": [
        {
          "output_type": "execute_result",
          "data": {
            "text/plain": [
              "array([1, 2, 3, 4, 5])"
            ]
          },
          "metadata": {},
          "execution_count": 65
        }
      ]
    },
    {
      "cell_type": "code",
      "source": [
        "a[0,1]"
      ],
      "metadata": {
        "colab": {
          "base_uri": "https://localhost:8080/"
        },
        "id": "jQvI2jyhqe4d",
        "outputId": "566fca72-1cb4-4cd8-e0c1-03ea3207ebd9"
      },
      "execution_count": 66,
      "outputs": [
        {
          "output_type": "execute_result",
          "data": {
            "text/plain": [
              "2"
            ]
          },
          "metadata": {},
          "execution_count": 66
        }
      ]
    },
    {
      "cell_type": "code",
      "source": [
        "a[3,4]"
      ],
      "metadata": {
        "colab": {
          "base_uri": "https://localhost:8080/"
        },
        "id": "TUsVpGyCqjGO",
        "outputId": "f2a67c4a-becf-4b38-d4ca-ca852aa9face"
      },
      "execution_count": 67,
      "outputs": [
        {
          "output_type": "execute_result",
          "data": {
            "text/plain": [
              "20"
            ]
          },
          "metadata": {},
          "execution_count": 67
        }
      ]
    },
    {
      "cell_type": "code",
      "source": [
        "a[0,2:5]"
      ],
      "metadata": {
        "colab": {
          "base_uri": "https://localhost:8080/"
        },
        "id": "Uu5_dZN3qmF2",
        "outputId": "9535e18f-72ee-4cec-da51-9f0f22e26b12"
      },
      "execution_count": 76,
      "outputs": [
        {
          "output_type": "execute_result",
          "data": {
            "text/plain": [
              "array([3, 4, 5])"
            ]
          },
          "metadata": {},
          "execution_count": 76
        }
      ]
    },
    {
      "cell_type": "code",
      "source": [
        "a[::-1,::-1]"
      ],
      "metadata": {
        "colab": {
          "base_uri": "https://localhost:8080/"
        },
        "id": "WRwE4dBVqwht",
        "outputId": "8dbcb456-92bd-439b-dcdb-b80578423190"
      },
      "execution_count": 75,
      "outputs": [
        {
          "output_type": "execute_result",
          "data": {
            "text/plain": [
              "array([[50, 49, 48, 47, 46],\n",
              "       [45, 44, 43, 42, 41],\n",
              "       [40, 39, 38, 37, 36],\n",
              "       [35, 34, 33, 32, 31],\n",
              "       [30, 29, 28, 27, 26],\n",
              "       [25, 24, 23, 22, 21],\n",
              "       [20, 19, 18, 17, 16],\n",
              "       [15, 14, 13, 12, 11],\n",
              "       [10,  9,  8,  7,  6],\n",
              "       [ 5,  4,  3,  2,  1]])"
            ]
          },
          "metadata": {},
          "execution_count": 75
        }
      ]
    },
    {
      "cell_type": "code",
      "source": [
        " a[:,3]"
      ],
      "metadata": {
        "colab": {
          "base_uri": "https://localhost:8080/"
        },
        "id": "OWgx7j8zsu67",
        "outputId": "6a1df086-456d-4d89-cf29-cb17fd739aca"
      },
      "execution_count": 79,
      "outputs": [
        {
          "output_type": "execute_result",
          "data": {
            "text/plain": [
              "array([ 4,  9, 14, 19, 24, 29, 34, 39, 44, 49])"
            ]
          },
          "metadata": {},
          "execution_count": 79
        }
      ]
    },
    {
      "cell_type": "code",
      "source": [
        "a[2:4,:]"
      ],
      "metadata": {
        "colab": {
          "base_uri": "https://localhost:8080/"
        },
        "id": "oonY00C4uliK",
        "outputId": "2b1cfabd-9d35-44a8-c5b0-6a2e1fea84f6"
      },
      "execution_count": 81,
      "outputs": [
        {
          "output_type": "execute_result",
          "data": {
            "text/plain": [
              "array([[11, 12, 13, 14, 15],\n",
              "       [16, 17, 18, 19, 20]])"
            ]
          },
          "metadata": {},
          "execution_count": 81
        }
      ]
    },
    {
      "cell_type": "code",
      "source": [
        "a[:,:]"
      ],
      "metadata": {
        "colab": {
          "base_uri": "https://localhost:8080/"
        },
        "id": "DnhOrUHJu6Hi",
        "outputId": "dcb84b31-3374-4814-a01e-afa18aea1322"
      },
      "execution_count": 82,
      "outputs": [
        {
          "output_type": "execute_result",
          "data": {
            "text/plain": [
              "array([[ 1,  2,  3,  4,  5],\n",
              "       [ 6,  7,  8,  9, 10],\n",
              "       [11, 12, 13, 14, 15],\n",
              "       [16, 17, 18, 19, 20],\n",
              "       [21, 22, 23, 24, 25],\n",
              "       [26, 27, 28, 29, 30],\n",
              "       [31, 32, 33, 34, 35],\n",
              "       [36, 37, 38, 39, 40],\n",
              "       [41, 42, 43, 44, 45],\n",
              "       [46, 47, 48, 49, 50]])"
            ]
          },
          "metadata": {},
          "execution_count": 82
        }
      ]
    },
    {
      "cell_type": "markdown",
      "source": [
        "# Mathematical Operation"
      ],
      "metadata": {
        "id": "UDODgXKGvXYB"
      }
    },
    {
      "cell_type": "code",
      "source": [
        "a=np.arange(0,18).reshape((6,3))\n",
        "b=np.arange(20,38).reshape((6,3))\n",
        "print(a)\n",
        "print(b)"
      ],
      "metadata": {
        "colab": {
          "base_uri": "https://localhost:8080/"
        },
        "id": "qo7zlEo2vRvI",
        "outputId": "b54e80f8-22d6-455e-ad9e-306f33950cb7"
      },
      "execution_count": 87,
      "outputs": [
        {
          "output_type": "stream",
          "name": "stdout",
          "text": [
            "[[ 0  1  2]\n",
            " [ 3  4  5]\n",
            " [ 6  7  8]\n",
            " [ 9 10 11]\n",
            " [12 13 14]\n",
            " [15 16 17]]\n",
            "[[20 21 22]\n",
            " [23 24 25]\n",
            " [26 27 28]\n",
            " [29 30 31]\n",
            " [32 33 34]\n",
            " [35 36 37]]\n"
          ]
        }
      ]
    },
    {
      "cell_type": "code",
      "source": [
        "print(a+b)\n",
        "print(a-b)"
      ],
      "metadata": {
        "colab": {
          "base_uri": "https://localhost:8080/"
        },
        "id": "36Al0pR6v1rM",
        "outputId": "207e41de-23d3-46fa-eb1a-33f588bd6444"
      },
      "execution_count": 89,
      "outputs": [
        {
          "output_type": "stream",
          "name": "stdout",
          "text": [
            "[[20 22 24]\n",
            " [26 28 30]\n",
            " [32 34 36]\n",
            " [38 40 42]\n",
            " [44 46 48]\n",
            " [50 52 54]]\n",
            "[[-20 -20 -20]\n",
            " [-20 -20 -20]\n",
            " [-20 -20 -20]\n",
            " [-20 -20 -20]\n",
            " [-20 -20 -20]\n",
            " [-20 -20 -20]]\n"
          ]
        }
      ]
    },
    {
      "cell_type": "code",
      "source": [
        "np.add(a,b)"
      ],
      "metadata": {
        "colab": {
          "base_uri": "https://localhost:8080/"
        },
        "id": "NsV06sT_wAWu",
        "outputId": "4c03cf6a-a5ef-447f-a78a-de38de11f2e3"
      },
      "execution_count": 90,
      "outputs": [
        {
          "output_type": "execute_result",
          "data": {
            "text/plain": [
              "array([[20, 22, 24],\n",
              "       [26, 28, 30],\n",
              "       [32, 34, 36],\n",
              "       [38, 40, 42],\n",
              "       [44, 46, 48],\n",
              "       [50, 52, 54]])"
            ]
          },
          "metadata": {},
          "execution_count": 90
        }
      ]
    },
    {
      "cell_type": "code",
      "source": [
        "np.subtract(a,b)"
      ],
      "metadata": {
        "colab": {
          "base_uri": "https://localhost:8080/"
        },
        "id": "tdFd0dK-wH3q",
        "outputId": "4679ec4b-e60a-4949-f914-33d41ee924c9"
      },
      "execution_count": 91,
      "outputs": [
        {
          "output_type": "execute_result",
          "data": {
            "text/plain": [
              "array([[-20, -20, -20],\n",
              "       [-20, -20, -20],\n",
              "       [-20, -20, -20],\n",
              "       [-20, -20, -20],\n",
              "       [-20, -20, -20],\n",
              "       [-20, -20, -20]])"
            ]
          },
          "metadata": {},
          "execution_count": 91
        }
      ]
    },
    {
      "cell_type": "code",
      "source": [
        "a*b"
      ],
      "metadata": {
        "colab": {
          "base_uri": "https://localhost:8080/"
        },
        "id": "umk9RBYnwLDx",
        "outputId": "9ac7dcad-2173-480b-b15a-017fedc8e58f"
      },
      "execution_count": 92,
      "outputs": [
        {
          "output_type": "execute_result",
          "data": {
            "text/plain": [
              "array([[  0,  21,  44],\n",
              "       [ 69,  96, 125],\n",
              "       [156, 189, 224],\n",
              "       [261, 300, 341],\n",
              "       [384, 429, 476],\n",
              "       [525, 576, 629]])"
            ]
          },
          "metadata": {},
          "execution_count": 92
        }
      ]
    },
    {
      "cell_type": "code",
      "source": [
        "np.multiply(a,b)"
      ],
      "metadata": {
        "colab": {
          "base_uri": "https://localhost:8080/"
        },
        "id": "ogcsoev9wTlP",
        "outputId": "3ef4ad79-e664-4471-cc83-ed74a924ddeb"
      },
      "execution_count": 93,
      "outputs": [
        {
          "output_type": "execute_result",
          "data": {
            "text/plain": [
              "array([[  0,  21,  44],\n",
              "       [ 69,  96, 125],\n",
              "       [156, 189, 224],\n",
              "       [261, 300, 341],\n",
              "       [384, 429, 476],\n",
              "       [525, 576, 629]])"
            ]
          },
          "metadata": {},
          "execution_count": 93
        }
      ]
    },
    {
      "cell_type": "code",
      "source": [
        "a/b"
      ],
      "metadata": {
        "colab": {
          "base_uri": "https://localhost:8080/"
        },
        "id": "vmeQaBkUwkBA",
        "outputId": "1fdf411f-8aeb-48ab-acb6-837fe4df82de"
      },
      "execution_count": 94,
      "outputs": [
        {
          "output_type": "execute_result",
          "data": {
            "text/plain": [
              "array([[0.        , 0.04761905, 0.09090909],\n",
              "       [0.13043478, 0.16666667, 0.2       ],\n",
              "       [0.23076923, 0.25925926, 0.28571429],\n",
              "       [0.31034483, 0.33333333, 0.35483871],\n",
              "       [0.375     , 0.39393939, 0.41176471],\n",
              "       [0.42857143, 0.44444444, 0.45945946]])"
            ]
          },
          "metadata": {},
          "execution_count": 94
        }
      ]
    },
    {
      "cell_type": "code",
      "source": [
        "np.divide(a,b)"
      ],
      "metadata": {
        "colab": {
          "base_uri": "https://localhost:8080/"
        },
        "id": "_BrMlo-4wn0g",
        "outputId": "bbe6f4b2-0f35-4cf4-b384-6e20a5ac29ae"
      },
      "execution_count": 95,
      "outputs": [
        {
          "output_type": "execute_result",
          "data": {
            "text/plain": [
              "array([[0.        , 0.04761905, 0.09090909],\n",
              "       [0.13043478, 0.16666667, 0.2       ],\n",
              "       [0.23076923, 0.25925926, 0.28571429],\n",
              "       [0.31034483, 0.33333333, 0.35483871],\n",
              "       [0.375     , 0.39393939, 0.41176471],\n",
              "       [0.42857143, 0.44444444, 0.45945946]])"
            ]
          },
          "metadata": {},
          "execution_count": 95
        }
      ]
    },
    {
      "cell_type": "markdown",
      "source": [
        "Actual Matrix Multiplication"
      ],
      "metadata": {
        "id": "dqvcI63hwtHP"
      }
    },
    {
      "cell_type": "code",
      "source": [
        "a@b"
      ],
      "metadata": {
        "colab": {
          "base_uri": "https://localhost:8080/",
          "height": 158
        },
        "id": "zQHKkII5wrQx",
        "outputId": "4040dbf5-2e3a-49ca-ff3e-e5523a227d2d"
      },
      "execution_count": 96,
      "outputs": [
        {
          "output_type": "error",
          "ename": "ValueError",
          "evalue": "matmul: Input operand 1 has a mismatch in its core dimension 0, with gufunc signature (n?,k),(k,m?)->(n?,m?) (size 6 is different from 3)",
          "traceback": [
            "\u001b[0;31m---------------------------------------------------------------------------\u001b[0m",
            "\u001b[0;31mValueError\u001b[0m                                Traceback (most recent call last)",
            "\u001b[0;32m<ipython-input-96-a832bb91e25d>\u001b[0m in \u001b[0;36m<cell line: 1>\u001b[0;34m()\u001b[0m\n\u001b[0;32m----> 1\u001b[0;31m \u001b[0ma\u001b[0m\u001b[0;34m@\u001b[0m\u001b[0mb\u001b[0m\u001b[0;34m\u001b[0m\u001b[0;34m\u001b[0m\u001b[0m\n\u001b[0m",
            "\u001b[0;31mValueError\u001b[0m: matmul: Input operand 1 has a mismatch in its core dimension 0, with gufunc signature (n?,k),(k,m?)->(n?,m?) (size 6 is different from 3)"
          ]
        }
      ]
    },
    {
      "cell_type": "code",
      "source": [
        "b=b.reshape((3,6))"
      ],
      "metadata": {
        "id": "UiLxfmhYw5ba"
      },
      "execution_count": 97,
      "outputs": []
    },
    {
      "cell_type": "code",
      "source": [
        "a@b"
      ],
      "metadata": {
        "colab": {
          "base_uri": "https://localhost:8080/"
        },
        "id": "0z-RHgLBw-qT",
        "outputId": "2e68e51d-649a-4b0a-d4e6-cc828f5f074c"
      },
      "execution_count": 98,
      "outputs": [
        {
          "output_type": "execute_result",
          "data": {
            "text/plain": [
              "array([[  90,   93,   96,   99,  102,  105],\n",
              "       [ 324,  336,  348,  360,  372,  384],\n",
              "       [ 558,  579,  600,  621,  642,  663],\n",
              "       [ 792,  822,  852,  882,  912,  942],\n",
              "       [1026, 1065, 1104, 1143, 1182, 1221],\n",
              "       [1260, 1308, 1356, 1404, 1452, 1500]])"
            ]
          },
          "metadata": {},
          "execution_count": 98
        }
      ]
    },
    {
      "cell_type": "code",
      "source": [
        "a.dot(b)"
      ],
      "metadata": {
        "colab": {
          "base_uri": "https://localhost:8080/"
        },
        "id": "lfeMUiRvxFGj",
        "outputId": "c802e53f-6b72-47e8-b2ab-5c635656ab4e"
      },
      "execution_count": 102,
      "outputs": [
        {
          "output_type": "execute_result",
          "data": {
            "text/plain": [
              "array([[  90,   93,   96,   99,  102,  105],\n",
              "       [ 324,  336,  348,  360,  372,  384],\n",
              "       [ 558,  579,  600,  621,  642,  663],\n",
              "       [ 792,  822,  852,  882,  912,  942],\n",
              "       [1026, 1065, 1104, 1143, 1182, 1221],\n",
              "       [1260, 1308, 1356, 1404, 1452, 1500]])"
            ]
          },
          "metadata": {},
          "execution_count": 102
        }
      ]
    },
    {
      "cell_type": "code",
      "source": [
        "a.max()"
      ],
      "metadata": {
        "colab": {
          "base_uri": "https://localhost:8080/"
        },
        "id": "8ryhL6toxJw_",
        "outputId": "b67a2fb7-ab18-4e0f-c6a7-472504118940"
      },
      "execution_count": 100,
      "outputs": [
        {
          "output_type": "execute_result",
          "data": {
            "text/plain": [
              "17"
            ]
          },
          "metadata": {},
          "execution_count": 100
        }
      ]
    },
    {
      "cell_type": "code",
      "source": [
        "a.min()"
      ],
      "metadata": {
        "colab": {
          "base_uri": "https://localhost:8080/"
        },
        "id": "-XF26p0LxL4G",
        "outputId": "90b41197-3cb0-4e02-ea14-972fc3ecc1b3"
      },
      "execution_count": 103,
      "outputs": [
        {
          "output_type": "execute_result",
          "data": {
            "text/plain": [
              "0"
            ]
          },
          "metadata": {},
          "execution_count": 103
        }
      ]
    },
    {
      "cell_type": "markdown",
      "source": [
        "np.argmax() gives us index of max element\n",
        "\n",
        "> Indented block\n",
        "\n",
        "\n",
        "np.argmin() gives us index of min element"
      ],
      "metadata": {
        "id": "cTXLHigWxXg3"
      }
    },
    {
      "cell_type": "code",
      "source": [
        "b.argmax()"
      ],
      "metadata": {
        "colab": {
          "base_uri": "https://localhost:8080/"
        },
        "id": "FfWnoCRRxw_E",
        "outputId": "518b4332-7aa0-49c0-f143-5a7d70023440"
      },
      "execution_count": 104,
      "outputs": [
        {
          "output_type": "execute_result",
          "data": {
            "text/plain": [
              "17"
            ]
          },
          "metadata": {},
          "execution_count": 104
        }
      ]
    },
    {
      "cell_type": "code",
      "source": [
        "np.sum(a)"
      ],
      "metadata": {
        "colab": {
          "base_uri": "https://localhost:8080/"
        },
        "id": "KllNxL7Ax96h",
        "outputId": "b5339fe8-ea45-4a6e-fe50-be567b658546"
      },
      "execution_count": 105,
      "outputs": [
        {
          "output_type": "execute_result",
          "data": {
            "text/plain": [
              "153"
            ]
          },
          "metadata": {},
          "execution_count": 105
        }
      ]
    },
    {
      "cell_type": "code",
      "source": [
        "b"
      ],
      "metadata": {
        "colab": {
          "base_uri": "https://localhost:8080/"
        },
        "id": "_2PXZJfxyEpx",
        "outputId": "f585868f-981c-423f-d949-b0b3cc03e8b9"
      },
      "execution_count": 106,
      "outputs": [
        {
          "output_type": "execute_result",
          "data": {
            "text/plain": [
              "array([[20, 21, 22, 23, 24, 25],\n",
              "       [26, 27, 28, 29, 30, 31],\n",
              "       [32, 33, 34, 35, 36, 37]])"
            ]
          },
          "metadata": {},
          "execution_count": 106
        }
      ]
    },
    {
      "cell_type": "code",
      "source": [
        "np.sum(b,axis=1)"
      ],
      "metadata": {
        "colab": {
          "base_uri": "https://localhost:8080/"
        },
        "id": "FJjfvbusydEh",
        "outputId": "348683d4-5741-4e3e-e010-0fd6ac97a5e7"
      },
      "execution_count": 107,
      "outputs": [
        {
          "output_type": "execute_result",
          "data": {
            "text/plain": [
              "array([135, 171, 207])"
            ]
          },
          "metadata": {},
          "execution_count": 107
        }
      ]
    },
    {
      "cell_type": "code",
      "source": [
        "np.sum(b,axis=0)"
      ],
      "metadata": {
        "colab": {
          "base_uri": "https://localhost:8080/"
        },
        "id": "eC3-pC2pylhY",
        "outputId": "d3863b38-7686-49f1-f4c5-bb805ec489c0"
      },
      "execution_count": 108,
      "outputs": [
        {
          "output_type": "execute_result",
          "data": {
            "text/plain": [
              "array([78, 81, 84, 87, 90, 93])"
            ]
          },
          "metadata": {},
          "execution_count": 108
        }
      ]
    },
    {
      "cell_type": "code",
      "source": [
        "np.mean(b)"
      ],
      "metadata": {
        "colab": {
          "base_uri": "https://localhost:8080/"
        },
        "id": "H_7gf5zFyz-W",
        "outputId": "c3a50921-3276-4f4e-980a-bef90c1fa6c4"
      },
      "execution_count": 109,
      "outputs": [
        {
          "output_type": "execute_result",
          "data": {
            "text/plain": [
              "28.5"
            ]
          },
          "metadata": {},
          "execution_count": 109
        }
      ]
    },
    {
      "cell_type": "code",
      "source": [
        "np.sqrt(b)"
      ],
      "metadata": {
        "colab": {
          "base_uri": "https://localhost:8080/"
        },
        "id": "1CSv-vJty3xT",
        "outputId": "3b5f7ebd-a82e-4854-a6d8-cf52084abdf9"
      },
      "execution_count": 110,
      "outputs": [
        {
          "output_type": "execute_result",
          "data": {
            "text/plain": [
              "array([[4.47213595, 4.58257569, 4.69041576, 4.79583152, 4.89897949,\n",
              "        5.        ],\n",
              "       [5.09901951, 5.19615242, 5.29150262, 5.38516481, 5.47722558,\n",
              "        5.56776436],\n",
              "       [5.65685425, 5.74456265, 5.83095189, 5.91607978, 6.        ,\n",
              "        6.08276253]])"
            ]
          },
          "metadata": {},
          "execution_count": 110
        }
      ]
    },
    {
      "cell_type": "code",
      "source": [
        "np.std(b)"
      ],
      "metadata": {
        "colab": {
          "base_uri": "https://localhost:8080/"
        },
        "id": "WiBQunFdzGHQ",
        "outputId": "69ae7a58-439d-4cde-9193-355ef35f20e8"
      },
      "execution_count": 111,
      "outputs": [
        {
          "output_type": "execute_result",
          "data": {
            "text/plain": [
              "5.188127472091127"
            ]
          },
          "metadata": {},
          "execution_count": 111
        }
      ]
    },
    {
      "cell_type": "code",
      "source": [
        "np.log(b)"
      ],
      "metadata": {
        "colab": {
          "base_uri": "https://localhost:8080/"
        },
        "id": "a5sEt19NzL13",
        "outputId": "fb335270-3446-4ba5-e1be-eca766179f60"
      },
      "execution_count": 112,
      "outputs": [
        {
          "output_type": "execute_result",
          "data": {
            "text/plain": [
              "array([[2.99573227, 3.04452244, 3.09104245, 3.13549422, 3.17805383,\n",
              "        3.21887582],\n",
              "       [3.25809654, 3.29583687, 3.33220451, 3.36729583, 3.40119738,\n",
              "        3.4339872 ],\n",
              "       [3.4657359 , 3.49650756, 3.52636052, 3.55534806, 3.58351894,\n",
              "        3.61091791]])"
            ]
          },
          "metadata": {},
          "execution_count": 112
        }
      ]
    },
    {
      "cell_type": "code",
      "source": [
        " import matplotlib.pyplot as plt\n",
        " plt.style.use('dark_background')"
      ],
      "metadata": {
        "id": "aMYMgzrdkZBn"
      },
      "execution_count": 2,
      "outputs": []
    },
    {
      "cell_type": "code",
      "source": [
        "np.pi"
      ],
      "metadata": {
        "colab": {
          "base_uri": "https://localhost:8080/"
        },
        "id": "SFaBfNTBkucl",
        "outputId": "25a38266-1489-4b44-efbf-094c2032928c"
      },
      "execution_count": 3,
      "outputs": [
        {
          "output_type": "execute_result",
          "data": {
            "text/plain": [
              "3.141592653589793"
            ]
          },
          "metadata": {},
          "execution_count": 3
        }
      ]
    },
    {
      "cell_type": "code",
      "source": [
        "np.sin(np.pi/2)"
      ],
      "metadata": {
        "colab": {
          "base_uri": "https://localhost:8080/"
        },
        "id": "Itzp5IDikyXq",
        "outputId": "b39871c9-ef32-4c37-f48e-d0727069607e"
      },
      "execution_count": 4,
      "outputs": [
        {
          "output_type": "execute_result",
          "data": {
            "text/plain": [
              "1.0"
            ]
          },
          "metadata": {},
          "execution_count": 4
        }
      ]
    },
    {
      "cell_type": "code",
      "source": [
        "np.sin(np.pi/6)"
      ],
      "metadata": {
        "colab": {
          "base_uri": "https://localhost:8080/"
        },
        "id": "4FWKlwLzk314",
        "outputId": "373b5991-aa1b-4838-f79a-0cbf484695d1"
      },
      "execution_count": 6,
      "outputs": [
        {
          "output_type": "execute_result",
          "data": {
            "text/plain": [
              "0.49999999999999994"
            ]
          },
          "metadata": {},
          "execution_count": 6
        }
      ]
    },
    {
      "cell_type": "code",
      "source": [
        "np.tan(np.pi/4)"
      ],
      "metadata": {
        "colab": {
          "base_uri": "https://localhost:8080/"
        },
        "id": "Rj32pEeglGlI",
        "outputId": "74be39d7-d010-42bf-fb82-453fca3d9ece"
      },
      "execution_count": 7,
      "outputs": [
        {
          "output_type": "execute_result",
          "data": {
            "text/plain": [
              "0.9999999999999999"
            ]
          },
          "metadata": {},
          "execution_count": 7
        }
      ]
    },
    {
      "cell_type": "markdown",
      "source": [
        "#Using Matplotlib with Numpy"
      ],
      "metadata": {
        "id": "kWvlssQAlMyx"
      }
    },
    {
      "cell_type": "code",
      "source": [
        "x=np.arange(1,11)\n",
        "y=np.arange(10,110,10)\n",
        "plt.figure(figsize=(6,6))\n",
        "plt.plot(x,y,'r--')\n",
        "plt.show()"
      ],
      "metadata": {
        "colab": {
          "base_uri": "https://localhost:8080/",
          "height": 522
        },
        "id": "2ea7WbGKlJzZ",
        "outputId": "912e9616-2836-4cab-b76e-79287fb59236"
      },
      "execution_count": 10,
      "outputs": [
        {
          "output_type": "display_data",
          "data": {
            "text/plain": [
              "<Figure size 600x600 with 1 Axes>"
            ],
            "image/png": "[encoded data removed]"
          },
          "metadata": {}
        }
      ]
    },
    {
      "cell_type": "code",
      "source": [
        "x_sin=np.arange(0,2*np.pi,0.1)\n",
        "y_sin=np.sin(x_sin)\n",
        "print(y_sin)"
      ],
      "metadata": {
        "colab": {
          "base_uri": "https://localhost:8080/"
        },
        "id": "W0GehJsFl6Ul",
        "outputId": "d82e74d6-f91a-44b0-a25d-2d266358b413"
      },
      "execution_count": 12,
      "outputs": [
        {
          "output_type": "stream",
          "name": "stdout",
          "text": [
            "[ 0.          0.09983342  0.19866933  0.29552021  0.38941834  0.47942554\n",
            "  0.56464247  0.64421769  0.71735609  0.78332691  0.84147098  0.89120736\n",
            "  0.93203909  0.96355819  0.98544973  0.99749499  0.9995736   0.99166481\n",
            "  0.97384763  0.94630009  0.90929743  0.86320937  0.8084964   0.74570521\n",
            "  0.67546318  0.59847214  0.51550137  0.42737988  0.33498815  0.23924933\n",
            "  0.14112001  0.04158066 -0.05837414 -0.15774569 -0.2555411  -0.35078323\n",
            " -0.44252044 -0.52983614 -0.61185789 -0.68776616 -0.7568025  -0.81827711\n",
            " -0.87157577 -0.91616594 -0.95160207 -0.97753012 -0.993691   -0.99992326\n",
            " -0.99616461 -0.98245261 -0.95892427 -0.92581468 -0.88345466 -0.83226744\n",
            " -0.77276449 -0.70554033 -0.63126664 -0.55068554 -0.46460218 -0.37387666\n",
            " -0.2794155  -0.1821625  -0.0830894 ]\n"
          ]
        }
      ]
    },
    {
      "cell_type": "code",
      "source": [
        "plt.figure(figsize=(6,6))\n",
        "plt.plot(x_sin,y_sin)\n",
        "plt.title('Sin Curve')\n",
        "plt.show()"
      ],
      "metadata": {
        "colab": {
          "base_uri": "https://localhost:8080/",
          "height": 545
        },
        "id": "NHzJrnChmNrU",
        "outputId": "b69bca25-42af-478e-90c1-f6b0f5ba2ffa"
      },
      "execution_count": 13,
      "outputs": [
        {
          "output_type": "display_data",
          "data": {
            "text/plain": [
              "<Figure size 600x600 with 1 Axes>"
            ],
            "image/png": "[encoded data removed]"
          },
          "metadata": {}
        }
      ]
    },
    {
      "cell_type": "code",
      "source": [
        "x_cos=np.arange(0,2*np.pi,0.1)\n",
        "y_cos=np.cos(x_cos)\n",
        "print(y_cos)"
      ],
      "metadata": {
        "colab": {
          "base_uri": "https://localhost:8080/"
        },
        "id": "ylfMTKrem1i6",
        "outputId": "adb6709f-b352-49f0-de0c-008832176587"
      },
      "execution_count": 14,
      "outputs": [
        {
          "output_type": "stream",
          "name": "stdout",
          "text": [
            "[ 1.          0.99500417  0.98006658  0.95533649  0.92106099  0.87758256\n",
            "  0.82533561  0.76484219  0.69670671  0.62160997  0.54030231  0.45359612\n",
            "  0.36235775  0.26749883  0.16996714  0.0707372  -0.02919952 -0.12884449\n",
            " -0.22720209 -0.32328957 -0.41614684 -0.5048461  -0.58850112 -0.66627602\n",
            " -0.73739372 -0.80114362 -0.85688875 -0.90407214 -0.94222234 -0.97095817\n",
            " -0.9899925  -0.99913515 -0.99829478 -0.98747977 -0.96679819 -0.93645669\n",
            " -0.89675842 -0.84810003 -0.79096771 -0.7259323  -0.65364362 -0.57482395\n",
            " -0.49026082 -0.40079917 -0.30733287 -0.2107958  -0.11215253 -0.01238866\n",
            "  0.08749898  0.18651237  0.28366219  0.37797774  0.46851667  0.55437434\n",
            "  0.63469288  0.70866977  0.77556588  0.83471278  0.88551952  0.92747843\n",
            "  0.96017029  0.98326844  0.9965421 ]\n"
          ]
        }
      ]
    },
    {
      "cell_type": "code",
      "source": [
        "plt.figure(figsize=(6,6))\n",
        "plt.plot(x_cos,y_cos)\n",
        "plt.title('Cos Curve')\n",
        "plt.show()"
      ],
      "metadata": {
        "colab": {
          "base_uri": "https://localhost:8080/",
          "height": 545
        },
        "id": "RyhnzqGcm_UT",
        "outputId": "8d19eb3e-11de-4a0e-b99b-98b3af26b66b"
      },
      "execution_count": 15,
      "outputs": [
        {
          "output_type": "display_data",
          "data": {
            "text/plain": [
              "<Figure size 600x600 with 1 Axes>"
            ],
            "image/png": "[encoded data removed]"
          },
          "metadata": {}
        }
      ]
    },
    {
      "cell_type": "code",
      "source": [
        "plt.figure(figsize=(6,6))\n",
        "plt.subplot(2,2,1)\n",
        "plt.plot(x_sin,y_sin,'r--')\n",
        "plt.title('Sin Curve')\n",
        "\n",
        "plt.subplot(2,2,2)\n",
        "plt.plot(x_cos,y_cos,'b--')\n",
        "plt.title('Cos Curve')\n",
        "\n",
        "plt.subplot(2,2,3)\n",
        "plt.plot(x_sin,y_sin,'r--')\n",
        "plt.title('sin curve')\n",
        "\n",
        "\n",
        "plt.show()"
      ],
      "metadata": {
        "colab": {
          "base_uri": "https://localhost:8080/",
          "height": 545
        },
        "id": "bIV-SvjDnVNt",
        "outputId": "3dfd554d-1ea6-42ee-ed85-f71f69a54894"
      },
      "execution_count": 18,
      "outputs": [
        {
          "output_type": "display_data",
          "data": {
            "text/plain": [
              "<Figure size 600x600 with 3 Axes>"
            ],
            "image/png": "[encoded data removed]"
          },
          "metadata": {}
        }
      ]
    },
    {
      "cell_type": "markdown",
      "source": [
        "#Random Functions in Numpy"
      ],
      "metadata": {
        "id": "EbHJ4zQjo-Wh"
      }
    },
    {
      "cell_type": "code",
      "source": [
        "np.random.random(1)"
      ],
      "metadata": {
        "colab": {
          "base_uri": "https://localhost:8080/"
        },
        "id": "wyH1esI_ots2",
        "outputId": "7268ff5a-28bb-4eba-8b0b-f40bcac83579"
      },
      "execution_count": 21,
      "outputs": [
        {
          "output_type": "execute_result",
          "data": {
            "text/plain": [
              "array([0.00289667])"
            ]
          },
          "metadata": {},
          "execution_count": 21
        }
      ]
    },
    {
      "cell_type": "code",
      "source": [
        "np.random.random(3)"
      ],
      "metadata": {
        "colab": {
          "base_uri": "https://localhost:8080/"
        },
        "id": "XqomvmJApD0Y",
        "outputId": "e1d9e9bc-0850-4feb-fd9a-02a7ee3fd3c3"
      },
      "execution_count": 22,
      "outputs": [
        {
          "output_type": "execute_result",
          "data": {
            "text/plain": [
              "array([0.7774438 , 0.06944912, 0.60191759])"
            ]
          },
          "metadata": {},
          "execution_count": 22
        }
      ]
    },
    {
      "cell_type": "code",
      "source": [
        "np.random.random((2,2))"
      ],
      "metadata": {
        "colab": {
          "base_uri": "https://localhost:8080/"
        },
        "id": "8w39ZluQpHBh",
        "outputId": "5f9b4ed2-2dc3-4f63-f4b5-b55c46851188"
      },
      "execution_count": 23,
      "outputs": [
        {
          "output_type": "execute_result",
          "data": {
            "text/plain": [
              "array([[0.39011411, 0.61840906],\n",
              "       [0.17293443, 0.81586649]])"
            ]
          },
          "metadata": {},
          "execution_count": 23
        }
      ]
    },
    {
      "cell_type": "code",
      "source": [
        "np.random.randint(1,10)"
      ],
      "metadata": {
        "colab": {
          "base_uri": "https://localhost:8080/"
        },
        "id": "-6joXUcQpL_Z",
        "outputId": "c9255185-cef0-4472-9322-0e28617a68ba"
      },
      "execution_count": 24,
      "outputs": [
        {
          "output_type": "execute_result",
          "data": {
            "text/plain": [
              "2"
            ]
          },
          "metadata": {},
          "execution_count": 24
        }
      ]
    },
    {
      "cell_type": "code",
      "source": [
        "np.random.randint(100,101)"
      ],
      "metadata": {
        "colab": {
          "base_uri": "https://localhost:8080/"
        },
        "id": "shCPK0L8pS1o",
        "outputId": "52f7f1d9-c99f-4ff8-871e-99d6a6bba0a6"
      },
      "execution_count": 26,
      "outputs": [
        {
          "output_type": "execute_result",
          "data": {
            "text/plain": [
              "100"
            ]
          },
          "metadata": {},
          "execution_count": 26
        }
      ]
    },
    {
      "cell_type": "code",
      "source": [
        "np.random.randint(1,10,(2,2))"
      ],
      "metadata": {
        "colab": {
          "base_uri": "https://localhost:8080/"
        },
        "id": "1C2T9Q0LpaV8",
        "outputId": "0f90d888-6f4b-47ce-ee20-9d5c02602351"
      },
      "execution_count": 27,
      "outputs": [
        {
          "output_type": "execute_result",
          "data": {
            "text/plain": [
              "array([[4, 7],\n",
              "       [3, 9]])"
            ]
          },
          "metadata": {},
          "execution_count": 27
        }
      ]
    },
    {
      "cell_type": "code",
      "source": [
        "np.random.randint(2,10,(2,2,2))"
      ],
      "metadata": {
        "colab": {
          "base_uri": "https://localhost:8080/"
        },
        "id": "4b61cQhLpsBD",
        "outputId": "6ce8f1cc-75e9-40c3-e095-f710ed657cc1"
      },
      "execution_count": 28,
      "outputs": [
        {
          "output_type": "execute_result",
          "data": {
            "text/plain": [
              "array([[[5, 3],\n",
              "        [2, 6]],\n",
              "\n",
              "       [[7, 4],\n",
              "        [9, 2]]])"
            ]
          },
          "metadata": {},
          "execution_count": 28
        }
      ]
    },
    {
      "cell_type": "code",
      "source": [
        "np.random.rand(2)"
      ],
      "metadata": {
        "colab": {
          "base_uri": "https://localhost:8080/"
        },
        "id": "X0U53QaepqO8",
        "outputId": "92ffc025-5992-48cf-da41-149f9a8bdb62"
      },
      "execution_count": 29,
      "outputs": [
        {
          "output_type": "execute_result",
          "data": {
            "text/plain": [
              "array([0.37369363, 0.90957492])"
            ]
          },
          "metadata": {},
          "execution_count": 29
        }
      ]
    },
    {
      "cell_type": "code",
      "source": [
        "np.random.rand(2,2)"
      ],
      "metadata": {
        "colab": {
          "base_uri": "https://localhost:8080/"
        },
        "id": "W4Kq6pDtp24V",
        "outputId": "b3210d00-5a87-4185-cf10-776b4fdbd9e8"
      },
      "execution_count": 30,
      "outputs": [
        {
          "output_type": "execute_result",
          "data": {
            "text/plain": [
              "array([[0.14490147, 0.36343113],\n",
              "       [0.47425291, 0.16637992]])"
            ]
          },
          "metadata": {},
          "execution_count": 30
        }
      ]
    },
    {
      "cell_type": "code",
      "source": [
        "np.random.randn(2,2)"
      ],
      "metadata": {
        "colab": {
          "base_uri": "https://localhost:8080/"
        },
        "id": "uej2jXtAp8An",
        "outputId": "f7720533-1a95-43e8-80ec-e94df1dd5674"
      },
      "execution_count": 31,
      "outputs": [
        {
          "output_type": "execute_result",
          "data": {
            "text/plain": [
              "array([[-0.95989585, -1.75078217],\n",
              "       [ 0.26799079, -1.0029705 ]])"
            ]
          },
          "metadata": {},
          "execution_count": 31
        }
      ]
    },
    {
      "cell_type": "code",
      "source": [
        "a=np.arange(1,11)\n",
        "print(a)\n",
        "#It will randomly choose numbers\n",
        "x=np.random.choice(a)\n",
        "print(x)\n",
        "x=np.random.choice(a)\n",
        "print(x)"
      ],
      "metadata": {
        "colab": {
          "base_uri": "https://localhost:8080/"
        },
        "id": "r6KEx-ZEp_Qm",
        "outputId": "e703a3ec-d24a-4049-fb95-da9de615311d"
      },
      "execution_count": 34,
      "outputs": [
        {
          "output_type": "stream",
          "name": "stdout",
          "text": [
            "[ 1  2  3  4  5  6  7  8  9 10]\n",
            "6\n",
            "3\n"
          ]
        }
      ]
    },
    {
      "cell_type": "markdown",
      "source": [
        "#Numpy and Strings"
      ],
      "metadata": {
        "id": "4k4mlordqfJe"
      }
    },
    {
      "cell_type": "code",
      "source": [
        "s1='Kushal is my name'\n",
        "s2='I am Indian'"
      ],
      "metadata": {
        "id": "iBernUysqb9x"
      },
      "execution_count": 35,
      "outputs": []
    },
    {
      "cell_type": "code",
      "source": [
        "x=np.char.add(s1,s2)\n",
        "print(x)"
      ],
      "metadata": {
        "colab": {
          "base_uri": "https://localhost:8080/"
        },
        "id": "nWVSuMAdqO1p",
        "outputId": "6cab7ec1-747c-4d61-d699-70dec5daf6f2"
      },
      "execution_count": 40,
      "outputs": [
        {
          "output_type": "stream",
          "name": "stdout",
          "text": [
            "Kushal is my nameI am Indian\n"
          ]
        }
      ]
    },
    {
      "cell_type": "code",
      "source": [
        "np.char.upper(s1)"
      ],
      "metadata": {
        "colab": {
          "base_uri": "https://localhost:8080/"
        },
        "id": "pI0lzwuUqOyD",
        "outputId": "358fa1b3-e766-4cc6-ec54-a0e164ffacd9"
      },
      "execution_count": 41,
      "outputs": [
        {
          "output_type": "execute_result",
          "data": {
            "text/plain": [
              "array('KUSHAL IS MY NAME', dtype='<U17')"
            ]
          },
          "metadata": {},
          "execution_count": 41
        }
      ]
    },
    {
      "cell_type": "code",
      "source": [
        "np.char.lower(s2)"
      ],
      "metadata": {
        "colab": {
          "base_uri": "https://localhost:8080/"
        },
        "id": "HdpNh-_Jq3fg",
        "outputId": "e091be45-888a-49c4-e8f1-df675ae90038"
      },
      "execution_count": 45,
      "outputs": [
        {
          "output_type": "execute_result",
          "data": {
            "text/plain": [
              "array('i am indian', dtype='<U11')"
            ]
          },
          "metadata": {},
          "execution_count": 45
        }
      ]
    },
    {
      "cell_type": "code",
      "source": [
        "np.char.split(s1)"
      ],
      "metadata": {
        "colab": {
          "base_uri": "https://localhost:8080/"
        },
        "id": "cNFMI-X8rjoA",
        "outputId": "86048847-a668-433c-cc62-f3d0e8aad544"
      },
      "execution_count": 46,
      "outputs": [
        {
          "output_type": "execute_result",
          "data": {
            "text/plain": [
              "array(list(['Kushal', 'is', 'my', 'name']), dtype=object)"
            ]
          },
          "metadata": {},
          "execution_count": 46
        }
      ]
    },
    {
      "cell_type": "code",
      "source": [
        "s3='I am Kushal Jain\\n From Dornakal'\n",
        "np.char.splitlines(s3)"
      ],
      "metadata": {
        "colab": {
          "base_uri": "https://localhost:8080/"
        },
        "id": "hWbm4_v5rqBJ",
        "outputId": "88217093-883c-480d-e5a2-d781d290191f"
      },
      "execution_count": 48,
      "outputs": [
        {
          "output_type": "execute_result",
          "data": {
            "text/plain": [
              "array(list(['I am Kushal Jain', ' From Dornakal']), dtype=object)"
            ]
          },
          "metadata": {},
          "execution_count": 48
        }
      ]
    },
    {
      "cell_type": "code",
      "source": [
        "np.char.replace(s3,'Kushal','Praful')"
      ],
      "metadata": {
        "colab": {
          "base_uri": "https://localhost:8080/"
        },
        "id": "r08QHkm9r9m9",
        "outputId": "8c72758a-7dbe-46f1-e622-f2944368e4f3"
      },
      "execution_count": 49,
      "outputs": [
        {
          "output_type": "execute_result",
          "data": {
            "text/plain": [
              "array('I am Praful Jain\\n From Dornakal', dtype='<U31')"
            ]
          },
          "metadata": {},
          "execution_count": 49
        }
      ]
    },
    {
      "cell_type": "code",
      "source": [
        "print(np.char.center('Kushal Jain',80,'*'))"
      ],
      "metadata": {
        "colab": {
          "base_uri": "https://localhost:8080/"
        },
        "id": "An-uQLwIsSyG",
        "outputId": "55f4acaa-c68e-4d8d-f048-040891a2560a"
      },
      "execution_count": 50,
      "outputs": [
        {
          "output_type": "stream",
          "name": "stdout",
          "text": [
            "**********************************Kushal Jain***********************************\n"
          ]
        }
      ]
    },
    {
      "cell_type": "code",
      "source": [
        "x=np.char.center('Kushal Jain',80,'*')\n",
        "print(x)"
      ],
      "metadata": {
        "colab": {
          "base_uri": "https://localhost:8080/"
        },
        "id": "9E4qzCK_spEa",
        "outputId": "d19111b5-f6b2-4967-ac74-0b232c54e038"
      },
      "execution_count": 54,
      "outputs": [
        {
          "output_type": "stream",
          "name": "stdout",
          "text": [
            "**********************************Kushal Jain***********************************\n"
          ]
        }
      ]
    }
  ]
}